{
 "cells": [
  {
   "cell_type": "code",
   "execution_count": null,
   "metadata": {},
   "outputs": [],
   "source": [
    "from rdflib import Graph as RDFGraph\n",
    "from rdflib.extras.external_graph_libs import rdflib_to_networkx_graph\n",
    "import networkx as nx\n",
    "from networkx import Graph as NXGraph\n",
    "import matplotlib.pyplot as plt\n",
    "import statistics\n",
    "import collections\n",
    "import pandas as pd\n",
    "from six.moves.urllib.parse import urldefrag\n",
    "from pathlib import Path\n",
    "\n",
    "from os import listdir \n",
    "from os.path import isfile, join, abspath, basename\n",
    "import json\n",
    "\n",
    "import xbrl2rdf"
   ]
  },
  {
   "cell_type": "markdown",
   "metadata": {},
   "source": [
    "# create ttl file of qrs_260_instance"
   ]
  },
  {
   "cell_type": "code",
   "execution_count": null,
   "metadata": {},
   "outputs": [],
   "source": [
    "DATA_URL = join(\"..\", \"data\", \"instances\", \"qrs_260_instance.xbrl\")\n",
    "TAXO_URL = join(\"..\", \"data\", \"taxonomies\", \"EIOPA_SolvencyII_XBRL_Taxonomy_2.6.0_PWD_with_External_Files.zip\")\n",
    "OUTPUT_DIR = join(\"..\", \"data\", \"rdf\")\n",
    "\n",
    "# setup output directories\n",
    "taxo_dir = \".\".join(basename(TAXO_URL).split(\".\")[0:-1])\n",
    "Path(join(OUTPUT_DIR, \"data\")).mkdir(parents=True, exist_ok=True)\n",
    "Path(join(OUTPUT_DIR, \"taxonomies\", taxo_dir)).mkdir(parents=True, exist_ok=True)\n",
    "\n",
    "xbrl2rdf.MainProcessor(DATA_URL, OUTPUT_DIR, 1)"
   ]
  },
  {
   "cell_type": "markdown",
   "metadata": {},
   "source": [
    "# Read ttl"
   ]
  },
  {
   "cell_type": "code",
   "execution_count": null,
   "metadata": {
    "scrolled": true
   },
   "outputs": [],
   "source": [
    "g = RDFGraph()\n",
    "\n",
    "# RDF graph loading\n",
    "\n",
    "# instance data\n",
    "data = \"../data/rdf/data/qrs_260_instance.ttl\"\n",
    "g.parse(data, format='turtle')\n",
    "\n",
    "# taxonomy data\n",
    "taxo = \"../data/rdf/taxonomies/EIOPA_SolvencyII_XBRL_Taxonomy_2.6.0_PWD_with_External_Files/\"\n",
    "taxo_ttls = [join(taxo, f) for f in listdir(taxo) if isfile(join(taxo, f))]\n",
    "for ttl in taxo_ttls:\n",
    "    try:\n",
    "        g.parse(ttl, format='turtle')\n",
    "    except:\n",
    "        print(\"Parse error: \" + ttl)\n",
    "\n",
    "print(\"rdflib Graph loaded successfully with {} triples\".format(len(g)))"
   ]
  },
  {
   "cell_type": "code",
   "execution_count": null,
   "metadata": {
    "scrolled": true
   },
   "outputs": [],
   "source": [
    "q = \"\"\"\n",
    "  SELECT ?c\n",
    "  WHERE {\n",
    "    ?a ?b ?c .\n",
    "  }\"\"\"\n",
    "a = list(set([h for h in g.query(q)]))\n",
    "a.sort()\n",
    "for item in a:\n",
    "    print(item[0])"
   ]
  },
  {
   "cell_type": "code",
   "execution_count": null,
   "metadata": {},
   "outputs": [],
   "source": [
    "q = \"\"\"\n",
    "  SELECT ?a ?c\n",
    "  WHERE {\n",
    "    ?a xl:from ?c .\n",
    "  }\"\"\"\n",
    "a = list(set([h for h in g.query(q)]))\n",
    "a.sort()\n",
    "for item in a:\n",
    "    print(item[1])"
   ]
  },
  {
   "cell_type": "code",
   "execution_count": null,
   "metadata": {},
   "outputs": [],
   "source": [
    "q = \"\"\"\n",
    "  SELECT ?a\n",
    "  WHERE {\n",
    "    ?a xl:type table:table .\n",
    "  }\"\"\"\n",
    "tables = [str(row[0]) for row in g.query(q)]\n",
    "tables.sort()\n",
    "tables[0:5]"
   ]
  },
  {
   "cell_type": "markdown",
   "metadata": {},
   "source": [
    "## Concept labels"
   ]
  },
  {
   "cell_type": "code",
   "execution_count": null,
   "metadata": {},
   "outputs": [],
   "source": [
    "q = \"\"\"\n",
    "  SELECT ?t ?label\n",
    "  WHERE {\n",
    "    ?x1 <http://www.xbrl.org/2003/arcrole#concept-label> [xl:from ?t ;\n",
    "                                xl:to [rdf:value ?label]] .\n",
    "  }\"\"\"\n",
    "concept_labels = {row[0]: row[1] for row in g.query(q)}"
   ]
  },
  {
   "cell_type": "markdown",
   "metadata": {},
   "source": [
    "## DPM explicit domains"
   ]
  },
  {
   "cell_type": "code",
   "execution_count": null,
   "metadata": {},
   "outputs": [],
   "source": [
    "# A domain is a set of elements/values sharing a specified semantic nature. \n",
    "# Domain can be of one of two kinds: explicit and typed. \n",
    "# An explicit domain has its elements enumerated in the model while a typed domain values \n",
    "# are assigned in the reports based on a specified format (data type)."
   ]
  },
  {
   "cell_type": "code",
   "execution_count": null,
   "metadata": {},
   "outputs": [],
   "source": [
    "q = \"\"\"\n",
    "  SELECT DISTINCT ?t ?x1 ?x2 ?x4 ?x5\n",
    "  WHERE {\n",
    "    ?t rdf:type model:explicitDomainType .\n",
    "    ?t xbrli:periodType ?x1 .\n",
    "    ?t model:creationDate ?x2 .\n",
    "    ?t xbrli:nillable ?x4 .\n",
    "    ?t xbrli:abstract ?x5 .\n",
    "  }\"\"\"\n",
    "\n",
    "data = [[row[0], concept_labels[row[0]]]+list(row[1:]) for row in g.query(q)]\n",
    "columns = ['Domain uri', \n",
    "           'Domain label', \n",
    "           'period Type', \n",
    "           'creation Date', \n",
    "           'nillable', \n",
    "           'abstract']\n",
    "df_domains = pd.DataFrame(data=data,\n",
    "                          columns=columns)\n",
    "df_domains.iloc[0:5]"
   ]
  },
  {
   "cell_type": "code",
   "execution_count": null,
   "metadata": {},
   "outputs": [],
   "source": [
    "len(df_domains)"
   ]
  },
  {
   "cell_type": "markdown",
   "metadata": {},
   "source": [
    "## DPM Dimensions"
   ]
  },
  {
   "cell_type": "code",
   "execution_count": null,
   "metadata": {},
   "outputs": [],
   "source": [
    "# In order to be used in description of information requirements a domain member \n",
    "# or a typed domain value requires a dimensionthat provides a context of its application. \n",
    "# In other words dimensions contextualise domain members when applied to a data point\n",
    "# i.e. they contribute to the semantics of a member which, without a dimension,\n",
    "# may be insufficient to represent the full meaning of a property."
   ]
  },
  {
   "cell_type": "code",
   "execution_count": null,
   "metadata": {
    "scrolled": true
   },
   "outputs": [],
   "source": [
    "q = \"\"\"\n",
    "  SELECT DISTINCT ?t ?domain\n",
    "  WHERE {\n",
    "    ?x2 <http://xbrl.org/int/dim/arcrole#dimension-domain> \n",
    "        [ xl:from ?t ;\n",
    "          xl:to ?domain ] .\n",
    "  }\"\"\"\n",
    "data = [[row[0], concept_labels[row[0]]]+list(row[1:]) for row in g.query(q)]\n",
    "columns=['Dimension uri', \n",
    "         'Dimension label', \n",
    "         'Applicable domain code']\n",
    "df_dimensions = pd.DataFrame(data=data, \n",
    "                             columns=columns)\n",
    "df_dimensions"
   ]
  },
  {
   "cell_type": "markdown",
   "metadata": {},
   "source": [
    "## All domain members of all domains"
   ]
  },
  {
   "cell_type": "code",
   "execution_count": null,
   "metadata": {},
   "outputs": [],
   "source": [
    "# Elements of an explicit domain are called domain members. \n",
    "# A domain member (or simply a member) is enumerated element of an explicit domain.\n",
    "# All members from a domain share a certain common nature defined subjectively\n",
    "# but applied consistently by the model’s author."
   ]
  },
  {
   "cell_type": "code",
   "execution_count": null,
   "metadata": {},
   "outputs": [],
   "source": [
    "def members(domain):\n",
    "    q = \"\"\"\n",
    "      SELECT DISTINCT ?t ?label\n",
    "      WHERE {\n",
    "        ?l <http://xbrl.org/int/dim/arcrole#domain-member>\n",
    "            [ xl:from <\"\"\"+str(domain)+\"\"\"> ;\n",
    "              xl:to ?t ] .\n",
    "        ?t rdf:type nonnum:domainItemType .\n",
    "        ?x <http://www.xbrl.org/2003/arcrole#concept-label>\n",
    "            [ xl:from ?t ;\n",
    "              xl:to [rdf:value ?label ] ] .\n",
    "        }\"\"\"\n",
    "    return g.query(q)\n",
    "\n",
    "df_members = pd.DataFrame()\n",
    "for domain in df_domains.iloc[:, 0]:\n",
    "    data = [[urldefrag(domain)[1]]+[urldefrag(row[0])[1]]+list(row[1:]) for row in members(domain)]\n",
    "    columns = ['Domain',\n",
    "               'Member',\n",
    "               'Member label']\n",
    "    df_members = df_members.append(pd.DataFrame(data=data,\n",
    "                                                columns=columns))"
   ]
  },
  {
   "cell_type": "code",
   "execution_count": null,
   "metadata": {},
   "outputs": [],
   "source": [
    "len(df_members)"
   ]
  },
  {
   "cell_type": "markdown",
   "metadata": {},
   "source": [
    "## Template structures"
   ]
  },
  {
   "cell_type": "code",
   "execution_count": null,
   "metadata": {},
   "outputs": [],
   "source": [
    "def get_children(parent):\n",
    "    q = '''\n",
    "      SELECT DISTINCT ?t\n",
    "      WHERE {\n",
    "        ?s xl:from <'''+str(parent)+'''> .\n",
    "        ?s xl:to ?t .\n",
    "        ?l xl:from ?t .\n",
    "      }'''\n",
    "    return list(g.query(q))\n",
    "\n",
    "def get_label(element, role):\n",
    "    q = '''\n",
    "      SELECT DISTINCT ?label\n",
    "      WHERE {\n",
    "        ?l <http://xbrl.org/arcrole/2008#element-label> ?s .\n",
    "        ?s xl:from <'''+str(element)+'''> .\n",
    "        ?s xl:to [xlink:role '''+role+''';\n",
    "                  rdf:value ?label] .\n",
    "      }'''\n",
    "    r = list(g.query(q))\n",
    "    if r != []:\n",
    "        return r[0][0]\n",
    "    else:\n",
    "        return \"\"\n",
    "\n",
    "def search_tree(c, depth, axis, data):\n",
    "    if c != []:\n",
    "        for r in get_children(c):\n",
    "            rccode = get_label(r[0], '<http://www.eurofiling.info/xbrl/role#rc-code>')\n",
    "            label = get_label(r[0], '<http://www.xbrl.org/2008/role#label>')\n",
    "            data.append([str(axis), depth, str(rccode), str(label)])\n",
    "            search_tree(r[0], depth + 1, axis, data)\n",
    "    return data\n",
    "\n",
    "url = \"<http://eiopa.europa.eu/xbrl/s2md/fws/solvency/solvency2/2021-07-15/tab/S.02.01.02.01#s2md_tS.02.01.02.01>\"\n",
    "    \n",
    "qres = g.query(\n",
    "    \"\"\"SELECT DISTINCT ?t ?axis\n",
    "       WHERE {\n",
    "       ?s xl:from \"\"\"+url+\"\"\" .\n",
    "       ?s xl:axis ?axis .\n",
    "       ?s xl:to ?t .\n",
    "       }\"\"\")\n",
    "data = list()\n",
    "\n",
    "for row in qres:\n",
    "    data = search_tree(row[0], 0, row[1], data)\n",
    "columns = ['axis', 'depth', 'rc-code', 'label']\n",
    "df_tables = pd.DataFrame(data=data,\n",
    "                         columns=columns)\n",
    "df_tables = df_tables.sort_values(['axis', 'rc-code']).reset_index(drop=True)"
   ]
  },
  {
   "cell_type": "code",
   "execution_count": null,
   "metadata": {},
   "outputs": [],
   "source": [
    "df_tables[0:25]"
   ]
  },
  {
   "cell_type": "code",
   "execution_count": null,
   "metadata": {},
   "outputs": [],
   "source": []
  },
  {
   "cell_type": "code",
   "execution_count": null,
   "metadata": {},
   "outputs": [],
   "source": []
  },
  {
   "cell_type": "code",
   "execution_count": null,
   "metadata": {},
   "outputs": [],
   "source": []
  }
 ],
 "metadata": {
  "kernelspec": {
   "display_name": "Python 3",
   "language": "python",
   "name": "python3"
  },
  "language_info": {
   "codemirror_mode": {
    "name": "ipython",
    "version": 3
   },
   "file_extension": ".py",
   "mimetype": "text/x-python",
   "name": "python",
   "nbconvert_exporter": "python",
   "pygments_lexer": "ipython3",
   "version": "3.7.4"
  }
 },
 "nbformat": 4,
 "nbformat_minor": 4
}
