{
 "cells": [
  {
   "cell_type": "code",
   "execution_count": 1,
   "id": "accepted-husband",
   "metadata": {},
   "outputs": [],
   "source": [
    "import rdflib\n",
    "from os.path import join\n",
    "from lxml import etree"
   ]
  },
  {
   "cell_type": "code",
   "execution_count": 2,
   "id": "employed-motel",
   "metadata": {},
   "outputs": [],
   "source": [
    "TAXO_DIR = join(\"..\", \"data\", \"rdf\")"
   ]
  },
  {
   "cell_type": "code",
   "execution_count": 3,
   "id": "transsexual-sussex",
   "metadata": {},
   "outputs": [],
   "source": [
    "fp = open(join(TAXO_DIR, \"qrs_240_instance.ttl\"), encoding = \"utf-8\")\n",
    "content = fp.read()\n",
    "fp.close()"
   ]
  },
  {
   "cell_type": "code",
   "execution_count": 4,
   "id": "subsequent-category",
   "metadata": {},
   "outputs": [],
   "source": [
    "g = rdflib.Graph()"
   ]
  },
  {
   "cell_type": "code",
   "execution_count": 5,
   "id": "trying-match",
   "metadata": {},
   "outputs": [
    {
     "data": {
      "text/plain": [
       "<Graph identifier=Neae9a36613b2421b9bdf3ef44f7f6313 (<class 'rdflib.graph.Graph'>)>"
      ]
     },
     "execution_count": 5,
     "metadata": {},
     "output_type": "execute_result"
    }
   ],
   "source": [
    "g.parse(data = content, format = 'turtle')"
   ]
  },
  {
   "cell_type": "markdown",
   "id": "fitting-scene",
   "metadata": {},
   "source": [
    "# entrypoint label"
   ]
  },
  {
   "cell_type": "code",
   "execution_count": null,
   "id": "satellite-miniature",
   "metadata": {},
   "outputs": [],
   "source": [
    "qres = g.query(\n",
    "    \"\"\"SELECT DISTINCT ?entrypoint ?label\n",
    "       WHERE {\n",
    "           ?entrypoint rdf:type model:moduleType .\n",
    "           ?l arcrole3:concept-label ?s .\n",
    "           ?s xl:from ?entrypoint . \n",
    "           ?s xl:to ?res .\n",
    "           ?res rdf:value ?label .\n",
    "       }\"\"\")\n",
    "\n",
    "for row in qres:\n",
    "    print(str(row[0]) + \": \"+row[1] )"
   ]
  },
  {
   "cell_type": "code",
   "execution_count": null,
   "id": "charming-england",
   "metadata": {},
   "outputs": [],
   "source": [
    "qres = g.query(\n",
    "    \"\"\"SELECT DISTINCT ?gt ?label\n",
    "       WHERE {\n",
    "           ?l1 arcrole5:group-table ?s . \n",
    "           ?s xl:from s2md_mod_qrs:qrs .\n",
    "           ?s xl:to ?gt .\n",
    "           ?l2 arcrole3:concept-label ?ss .\n",
    "           ?ss xl:from ?gt .\n",
    "           ?ss xl:to ?res .\n",
    "           ?res rdf:value ?label\n",
    "       }\"\"\")\n",
    "for row in qres:\n",
    "    print(row[0].split(\"#\")[1] + \": \" +row[1])"
   ]
  },
  {
   "cell_type": "markdown",
   "id": "sunrise-choir",
   "metadata": {},
   "source": [
    "# Labels of one table group"
   ]
  },
  {
   "cell_type": "code",
   "execution_count": null,
   "id": "legislative-violin",
   "metadata": {},
   "outputs": [],
   "source": [
    "qres = g.query(\n",
    "    \"\"\"PREFIX model: <http://www.eurofiling.info/xbrl/ext/model#>\n",
    "       SELECT ?label\n",
    "       WHERE {\n",
    "           ?l1 arcrole5:group-table ?s . \n",
    "           ?s xl:from s2md_mod_qrs:qrs .\n",
    "           ?s xl:to ?gt .\n",
    "           ?l2 arcrole5:group-table ?s2 . \n",
    "           ?s2 xl:from ?gt .\n",
    "           ?s2 xl:to ?o .\n",
    "           ?l3 arcrole1:element-label ?s3 .\n",
    "           ?s3 xl:from ?o .\n",
    "           ?s3 xl:to ?res .\n",
    "           ?res rdf:value ?label .\n",
    "           ?res xlink:role role1:verboseLabel .\n",
    "       }\"\"\")\n",
    "\n",
    "for row in qres:\n",
    "    print(row[0])"
   ]
  },
  {
   "cell_type": "markdown",
   "id": "under-huntington",
   "metadata": {},
   "source": [
    "# Extract labels of metrics of a template"
   ]
  },
  {
   "cell_type": "code",
   "execution_count": null,
   "id": "attended-turtle",
   "metadata": {},
   "outputs": [],
   "source": [
    "qres = g.query(\n",
    "    \"\"\"PREFIX model: <http://www.eurofiling.info/xbrl/ext/model#>\n",
    "       SELECT DISTINCT ?label\n",
    "       WHERE {\n",
    "           ?l arcrole4:definition-node-subtree ?s .\n",
    "           ?s xl:role role3:S.06.02.01.02 .\n",
    "           ?s xl:to/formula:concept ?t .\n",
    "           ?ll arcrole3:concept-label [xl:from ?t ; xl:to/rdf:value ?label]\n",
    "       }\"\"\")\n",
    "for row in qres:\n",
    "    print(row[0])"
   ]
  },
  {
   "cell_type": "markdown",
   "id": "quality-detail",
   "metadata": {},
   "source": [
    "# all validation rules, tersemessage"
   ]
  },
  {
   "cell_type": "code",
   "execution_count": null,
   "id": "employed-blink",
   "metadata": {},
   "outputs": [],
   "source": [
    "# _:link165499 arcrole5:assertion-unsatisfied-message [\n",
    "#     xl:type xl:link ;\n",
    "#     xl:role role1:link ;\n",
    "#     xlink:role role3:terseMessage ;\n",
    "#     rdf:lang \"en\" ;\n",
    "#     xl:from s2md_mod_qrs:s2md_BV1014-2 ;\n",
    "#     rdf:value \"\"\"BV1014-2: {{S.08.01.01.01, c0150}} gt 0\"\"\"@en ;\n",
    "#     ].\n",
    "\n",
    "qres = g.query(\n",
    "    \"\"\"SELECT ?l\n",
    "       WHERE {\n",
    "            ?s2 xlink:role role4:terseMessage .\n",
    "            ?s2 rdf:value ?l .\n",
    "       }\"\"\")\n",
    "for row in qres:\n",
    "    print(row[0])"
   ]
  },
  {
   "cell_type": "code",
   "execution_count": null,
   "id": "owned-ambassador",
   "metadata": {},
   "outputs": [],
   "source": [
    "qres = g.query(\n",
    "    \"\"\"SELECT ?from ?label_t\n",
    "       WHERE {\n",
    "            ?l arcrole7:domain-member [xl:from ?from ; xl:to ?to ].\n",
    "            ?l2 arcrole3:concept-label [xl:from ?to ; xl:to/rdf:value ?label_t] .\n",
    "       }\"\"\")\n",
    "for row in qres:\n",
    "    print(row)"
   ]
  },
  {
   "cell_type": "markdown",
   "id": "rental-necessity",
   "metadata": {},
   "source": [
    "# Table structure"
   ]
  },
  {
   "cell_type": "code",
   "execution_count": 22,
   "id": "residential-factor",
   "metadata": {},
   "outputs": [
    {
     "name": "stdout",
     "output_type": "stream",
     "text": [
      "Metric: Monetary|BC/Claims incurred|AI/Other than salvages and subrogations\n",
      "Metric: Monetary|BC/Premiums written|CC/Not ceded\n",
      "Metric: Monetary|BC/Premiums written\n",
      "Metric: Monetary|BC/Claims incurred|AI/Other than salvages and subrogations|CC/Not ceded\n",
      "Metric: Monetary|BC/Premiums written\n",
      "Metric: Monetary|BC/Claims incurred|AI/Other than salvages and subrogations\n",
      "Metric: Monetary|BC/Claims incurred|AI/Other than salvages and subrogations|CC/Ceded\n",
      "Metric: Monetary|BC/Premiums written|CC/Ceded\n",
      "Metric: Monetary|BC/Premiums written|CC/Not ceded\n",
      "Metric: Monetary|BC/Liability|LB/Gross technical provisions [local GAAP specific]\n",
      "Metric: Monetary|BC/Expenses|TE/Other than administration, investments management, claims management, acquisition and overhead|CC/Not ceded\n",
      "Metric: Monetary|BC/Claims incurred|AI/Other than salvages and subrogations\n",
      "Metric: Monetary|BC/Premiums written\n",
      "Metric: Monetary|BC/Liability|LB/Gross technical provisions [local GAAP specific]\n",
      "Metric: Monetary|BC/Premiums written\n",
      "Metric: Monetary|BC/Premiums written|CC/Ceded\n",
      "Metric: Monetary|BC/Liability|LB/Gross technical provisions [local GAAP specific]|CC/Not ceded\n",
      "Metric: Monetary|BC/Expenses|TE/Administration, investments management, claims management, acquisition and overhead|CC/Not ceded\n",
      "Metric: Monetary|BC/Expenses|CC/Not ceded\n",
      "Metric: Monetary|BC/Liability|LB/Gross technical provisions [local GAAP specific]|CC/Ceded\n",
      "Metric: Monetary|BC/Liability|LB/Gross technical provisions [local GAAP specific]\n",
      "Metric: Monetary|BC/Premiums written\n",
      "Metric: Monetary|BC/Premiums written\n"
     ]
    }
   ],
   "source": [
    "# _:link77502 arcrole4:breakdown-tree [\n",
    "#     xl:type xl:link ;\n",
    "#     xl:role role3:S.02.01.02.01 ;\n",
    "#     xl:order \"0\"^^xsd:decimal ;\n",
    "#     xl:from _:resource154321 ;\n",
    "#     xl:to _:resource154322 ;\n",
    "#     ] .\n",
    "        \n",
    "qres = g.query(\n",
    "    \"\"\"SELECT ?label\n",
    "       WHERE {?a arcrole4:definition-node-subtree ?x .\n",
    "       ?x xl:role role3:S.05.01.02.01 .\n",
    "       ?x xl:to [formula:concept ?metric] .\n",
    "       ?x xl:order ?o .\n",
    "       ?l arcrole3:concept-label ?ll .\n",
    "       ?ll xl:from ?metric .\n",
    "       ?ll xl:to [rdf:value ?label]\n",
    "       }\"\"\")\n",
    "for row in qres:\n",
    "    print(row[0])\n",
    "# xl:role role3:S.02.01.02.01 .\n"
   ]
  },
  {
   "cell_type": "code",
   "execution_count": null,
   "id": "numerous-evanescence",
   "metadata": {},
   "outputs": [],
   "source": []
  }
 ],
 "metadata": {
  "kernelspec": {
   "display_name": "Python 3",
   "language": "python",
   "name": "python3"
  },
  "language_info": {
   "codemirror_mode": {
    "name": "ipython",
    "version": 3
   },
   "file_extension": ".py",
   "mimetype": "text/x-python",
   "name": "python",
   "nbconvert_exporter": "python",
   "pygments_lexer": "ipython3",
   "version": "3.7.4"
  }
 },
 "nbformat": 4,
 "nbformat_minor": 5
}
