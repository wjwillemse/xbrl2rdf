{
 "cells": [
  {
   "cell_type": "code",
   "execution_count": 1,
   "metadata": {},
   "outputs": [],
   "source": [
    "from rdflib import Graph as RDFGraph\n",
    "from rdflib.extras.external_graph_libs import rdflib_to_networkx_graph\n",
    "import networkx as nx\n",
    "from networkx import Graph as NXGraph\n",
    "import matplotlib.pyplot as plt\n",
    "import statistics\n",
    "import collections\n",
    "import pandas as pd\n",
    "from six.moves.urllib.parse import urldefrag"
   ]
  },
  {
   "cell_type": "code",
   "execution_count": 2,
   "metadata": {
    "scrolled": true
   },
   "outputs": [
    {
     "name": "stdout",
     "output_type": "stream",
     "text": [
      "rdflib Graph loaded successfully with 242910 triples\n"
     ]
    }
   ],
   "source": [
    "# RDF graph loading\n",
    "path = \"../data/rdf/DNB-NR_FTK-2019-06_2019-12-31_MOD_FTK-DG.ttl\"\n",
    "\n",
    "g = RDFGraph()\n",
    "g.parse(path, format='turtle')\n",
    "\n",
    "print(\"rdflib Graph loaded successfully with {} triples\".format(len(g)))"
   ]
  },
  {
   "cell_type": "code",
   "execution_count": 3,
   "metadata": {},
   "outputs": [
    {
     "data": {
      "text/plain": [
       "[rdflib.term.URIRef('http://www.dnb.nl/xbrl/fws/dnb-nr/ftk-2019-06/2019-12-31/tab/K000#dnb_tK000'),\n",
       " rdflib.term.URIRef('http://www.dnb.nl/xbrl/fws/dnb-nr/ftk-2019-06/2019-12-31/tab/M101#dnb_tM101')]"
      ]
     },
     "execution_count": 3,
     "metadata": {},
     "output_type": "execute_result"
    }
   ],
   "source": [
    "q = \"\"\"\n",
    "  SELECT ?a\n",
    "  WHERE {\n",
    "    ?a xl:type table:table .\n",
    "  }\"\"\"\n",
    "tables = [row[0] for row in g.query(q)]\n",
    "tables.sort()\n",
    "tables[0:5]"
   ]
  },
  {
   "cell_type": "markdown",
   "metadata": {},
   "source": [
    "## Concept labels"
   ]
  },
  {
   "cell_type": "code",
   "execution_count": 4,
   "metadata": {},
   "outputs": [],
   "source": [
    "q = \"\"\"\n",
    "  SELECT ?t ?label\n",
    "  WHERE {\n",
    "    ?x1 arcrole1:concept-label [xl:from ?t ;\n",
    "                                xl:to [rdf:value ?label]] .\n",
    "  }\"\"\"\n",
    "concept_labels = {row[0]: row[1] for row in g.query(q)}"
   ]
  },
  {
   "cell_type": "markdown",
   "metadata": {},
   "source": [
    "## DPM explicit domains"
   ]
  },
  {
   "cell_type": "code",
   "execution_count": 5,
   "metadata": {},
   "outputs": [],
   "source": [
    "# A domain is a set of elements/values sharing a specified semantic nature. \n",
    "# Domain can be of one of two kinds: explicit and typed. \n",
    "# An explicit domain has its elements enumerated in the model while a typed domain values \n",
    "# are assigned in the reports based on a specified format (data type)."
   ]
  },
  {
   "cell_type": "code",
   "execution_count": 6,
   "metadata": {},
   "outputs": [
    {
     "data": {
      "text/html": [
       "<div>\n",
       "<style scoped>\n",
       "    .dataframe tbody tr th:only-of-type {\n",
       "        vertical-align: middle;\n",
       "    }\n",
       "\n",
       "    .dataframe tbody tr th {\n",
       "        vertical-align: top;\n",
       "    }\n",
       "\n",
       "    .dataframe thead th {\n",
       "        text-align: right;\n",
       "    }\n",
       "</style>\n",
       "<table border=\"1\" class=\"dataframe\">\n",
       "  <thead>\n",
       "    <tr style=\"text-align: right;\">\n",
       "      <th></th>\n",
       "      <th>Domain uri</th>\n",
       "      <th>Domain label</th>\n",
       "      <th>period Type</th>\n",
       "      <th>creation Date</th>\n",
       "      <th>nillable</th>\n",
       "      <th>abstract</th>\n",
       "    </tr>\n",
       "  </thead>\n",
       "  <tbody>\n",
       "    <tr>\n",
       "      <th>0</th>\n",
       "      <td>http://www.dnb.nl/xbrl/dict/exp#ftk_dom001</td>\n",
       "      <td>Contact</td>\n",
       "      <td>instant</td>\n",
       "      <td>2018-03-31</td>\n",
       "      <td>true</td>\n",
       "      <td>true</td>\n",
       "    </tr>\n",
       "    <tr>\n",
       "      <th>1</th>\n",
       "      <td>http://www.dnb.nl/xbrl/dict/exp#ftk_dom019</td>\n",
       "      <td>Commissies en organen</td>\n",
       "      <td>instant</td>\n",
       "      <td>2018-03-31</td>\n",
       "      <td>true</td>\n",
       "      <td>true</td>\n",
       "    </tr>\n",
       "    <tr>\n",
       "      <th>2</th>\n",
       "      <td>http://www.dnb.nl/xbrl/dict/exp#ftk_dom031</td>\n",
       "      <td>Toeslagverlening</td>\n",
       "      <td>instant</td>\n",
       "      <td>2018-03-31</td>\n",
       "      <td>true</td>\n",
       "      <td>true</td>\n",
       "    </tr>\n",
       "    <tr>\n",
       "      <th>3</th>\n",
       "      <td>http://www.dnb.nl/xbrl/dict/exp#ftk_dom015</td>\n",
       "      <td>Liquiditeiten</td>\n",
       "      <td>instant</td>\n",
       "      <td>2018-03-31</td>\n",
       "      <td>true</td>\n",
       "      <td>true</td>\n",
       "    </tr>\n",
       "    <tr>\n",
       "      <th>4</th>\n",
       "      <td>http://www.dnb.nl/xbrl/dict/exp#ftk_dom018</td>\n",
       "      <td>Dienstverlener</td>\n",
       "      <td>instant</td>\n",
       "      <td>2018-03-31</td>\n",
       "      <td>true</td>\n",
       "      <td>true</td>\n",
       "    </tr>\n",
       "  </tbody>\n",
       "</table>\n",
       "</div>"
      ],
      "text/plain": [
       "                                   Domain uri           Domain label  \\\n",
       "0  http://www.dnb.nl/xbrl/dict/exp#ftk_dom001                Contact   \n",
       "1  http://www.dnb.nl/xbrl/dict/exp#ftk_dom019  Commissies en organen   \n",
       "2  http://www.dnb.nl/xbrl/dict/exp#ftk_dom031       Toeslagverlening   \n",
       "3  http://www.dnb.nl/xbrl/dict/exp#ftk_dom015          Liquiditeiten   \n",
       "4  http://www.dnb.nl/xbrl/dict/exp#ftk_dom018         Dienstverlener   \n",
       "\n",
       "  period Type creation Date nillable abstract  \n",
       "0     instant    2018-03-31     true     true  \n",
       "1     instant    2018-03-31     true     true  \n",
       "2     instant    2018-03-31     true     true  \n",
       "3     instant    2018-03-31     true     true  \n",
       "4     instant    2018-03-31     true     true  "
      ]
     },
     "execution_count": 6,
     "metadata": {},
     "output_type": "execute_result"
    }
   ],
   "source": [
    "q = \"\"\"\n",
    "  SELECT DISTINCT ?t ?x1 ?x2 ?x4 ?x5\n",
    "  WHERE {\n",
    "    ?t rdf:type model:explicitDomainType .\n",
    "    ?t xbrli:periodType ?x1 .\n",
    "    ?t model:creationDate ?x2 .\n",
    "    ?t xbrli:nillable ?x4 .\n",
    "    ?t xbrli:abstract ?x5 .\n",
    "  }\"\"\"\n",
    "\n",
    "data = [[row[0], concept_labels[row[0]]]+list(row[1:]) for row in g.query(q)]\n",
    "columns = ['Domain uri', \n",
    "           'Domain label', \n",
    "           'period Type', \n",
    "           'creation Date', \n",
    "           'nillable', \n",
    "           'abstract']\n",
    "df_domains = pd.DataFrame(data=data,\n",
    "                          columns=columns)\n",
    "df_domains.iloc[0:5]"
   ]
  },
  {
   "cell_type": "code",
   "execution_count": 7,
   "metadata": {},
   "outputs": [
    {
     "data": {
      "text/plain": [
       "40"
      ]
     },
     "execution_count": 7,
     "metadata": {},
     "output_type": "execute_result"
    }
   ],
   "source": [
    "len(df_domains)"
   ]
  },
  {
   "cell_type": "markdown",
   "metadata": {},
   "source": [
    "## DPM Dimensions"
   ]
  },
  {
   "cell_type": "code",
   "execution_count": 8,
   "metadata": {},
   "outputs": [],
   "source": [
    "# In order to be used in description of information requirements a domain member \n",
    "# or a typed domain value requires a dimensionthat provides a context of its application. \n",
    "# In other words dimensions contextualise domain members when applied to a data point\n",
    "# i.e. they contribute to the semantics of a member which, without a dimension,\n",
    "# may be insufficient to represent the full meaning of a property."
   ]
  },
  {
   "cell_type": "code",
   "execution_count": 9,
   "metadata": {
    "scrolled": true
   },
   "outputs": [
    {
     "data": {
      "text/html": [
       "<div>\n",
       "<style scoped>\n",
       "    .dataframe tbody tr th:only-of-type {\n",
       "        vertical-align: middle;\n",
       "    }\n",
       "\n",
       "    .dataframe tbody tr th {\n",
       "        vertical-align: top;\n",
       "    }\n",
       "\n",
       "    .dataframe thead th {\n",
       "        text-align: right;\n",
       "    }\n",
       "</style>\n",
       "<table border=\"1\" class=\"dataframe\">\n",
       "  <thead>\n",
       "    <tr style=\"text-align: right;\">\n",
       "      <th></th>\n",
       "      <th>Dimension uri</th>\n",
       "      <th>Dimension label</th>\n",
       "      <th>Applicable domain code</th>\n",
       "    </tr>\n",
       "  </thead>\n",
       "  <tbody>\n",
       "    <tr>\n",
       "      <th>0</th>\n",
       "      <td>http://www.dnb.nl/xbrl/dict/dim#ftk_dim061</td>\n",
       "      <td>Kostenplaats</td>\n",
       "      <td>http://www.dnb.nl/xbrl/dict/exp#ftk_dom023</td>\n",
       "    </tr>\n",
       "    <tr>\n",
       "      <th>1</th>\n",
       "      <td>http://www.dnb.nl/xbrl/dict/dim#ftk_dim091</td>\n",
       "      <td>FTK_DIM091</td>\n",
       "      <td>http://www.dnb.nl/xbrl/dict/exp#ftk_dom034</td>\n",
       "    </tr>\n",
       "    <tr>\n",
       "      <th>2</th>\n",
       "      <td>http://www.dnb.nl/xbrl/dict/dim#ftk_dim002</td>\n",
       "      <td>Aandachtsgebied</td>\n",
       "      <td>http://www.dnb.nl/xbrl/dict/exp#ftk_dom002</td>\n",
       "    </tr>\n",
       "    <tr>\n",
       "      <th>3</th>\n",
       "      <td>http://www.dnb.nl/xbrl/dict/dim#ftk_dim022</td>\n",
       "      <td>FTK_DIM022</td>\n",
       "      <td>http://www.dnb.nl/xbrl/dict/exp#ftk_dom015</td>\n",
       "    </tr>\n",
       "    <tr>\n",
       "      <th>4</th>\n",
       "      <td>http://www.dnb.nl/xbrl/dict/dim#ftk_dim006</td>\n",
       "      <td>Solvabiliteitspost</td>\n",
       "      <td>http://www.dnb.nl/xbrl/dict/exp#ftk_dom005</td>\n",
       "    </tr>\n",
       "    <tr>\n",
       "      <th>...</th>\n",
       "      <td>...</td>\n",
       "      <td>...</td>\n",
       "      <td>...</td>\n",
       "    </tr>\n",
       "    <tr>\n",
       "      <th>69</th>\n",
       "      <td>http://www.dnb.nl/xbrl/dict/dim#ftk_dim101</td>\n",
       "      <td>Herstelplanpost</td>\n",
       "      <td>http://www.dnb.nl/xbrl/dict/exp#ftk_dom036</td>\n",
       "    </tr>\n",
       "    <tr>\n",
       "      <th>70</th>\n",
       "      <td>http://www.dnb.nl/xbrl/dict/dim#ftk_dim062</td>\n",
       "      <td>FTK_DIM062</td>\n",
       "      <td>http://www.dnb.nl/xbrl/dict/exp#ftk_dom023</td>\n",
       "    </tr>\n",
       "    <tr>\n",
       "      <th>71</th>\n",
       "      <td>http://www.dnb.nl/xbrl/dict/dim#ftk_dim064</td>\n",
       "      <td>Kostensoort</td>\n",
       "      <td>http://www.dnb.nl/xbrl/dict/exp#ftk_dom023</td>\n",
       "    </tr>\n",
       "    <tr>\n",
       "      <th>72</th>\n",
       "      <td>http://www.dnb.nl/xbrl/dict/dim#ftk_dim021</td>\n",
       "      <td>Liquiditeitsoort</td>\n",
       "      <td>http://www.dnb.nl/xbrl/dict/exp#ftk_dom015</td>\n",
       "    </tr>\n",
       "    <tr>\n",
       "      <th>73</th>\n",
       "      <td>http://www.dnb.nl/xbrl/dict/dim#ftk_dim015</td>\n",
       "      <td>Ratingklasse</td>\n",
       "      <td>http://www.dnb.nl/xbrl/dict/exp#ftk_dom010</td>\n",
       "    </tr>\n",
       "  </tbody>\n",
       "</table>\n",
       "<p>74 rows × 3 columns</p>\n",
       "</div>"
      ],
      "text/plain": [
       "                                 Dimension uri     Dimension label  \\\n",
       "0   http://www.dnb.nl/xbrl/dict/dim#ftk_dim061        Kostenplaats   \n",
       "1   http://www.dnb.nl/xbrl/dict/dim#ftk_dim091          FTK_DIM091   \n",
       "2   http://www.dnb.nl/xbrl/dict/dim#ftk_dim002     Aandachtsgebied   \n",
       "3   http://www.dnb.nl/xbrl/dict/dim#ftk_dim022          FTK_DIM022   \n",
       "4   http://www.dnb.nl/xbrl/dict/dim#ftk_dim006  Solvabiliteitspost   \n",
       "..                                         ...                 ...   \n",
       "69  http://www.dnb.nl/xbrl/dict/dim#ftk_dim101     Herstelplanpost   \n",
       "70  http://www.dnb.nl/xbrl/dict/dim#ftk_dim062          FTK_DIM062   \n",
       "71  http://www.dnb.nl/xbrl/dict/dim#ftk_dim064         Kostensoort   \n",
       "72  http://www.dnb.nl/xbrl/dict/dim#ftk_dim021    Liquiditeitsoort   \n",
       "73  http://www.dnb.nl/xbrl/dict/dim#ftk_dim015        Ratingklasse   \n",
       "\n",
       "                        Applicable domain code  \n",
       "0   http://www.dnb.nl/xbrl/dict/exp#ftk_dom023  \n",
       "1   http://www.dnb.nl/xbrl/dict/exp#ftk_dom034  \n",
       "2   http://www.dnb.nl/xbrl/dict/exp#ftk_dom002  \n",
       "3   http://www.dnb.nl/xbrl/dict/exp#ftk_dom015  \n",
       "4   http://www.dnb.nl/xbrl/dict/exp#ftk_dom005  \n",
       "..                                         ...  \n",
       "69  http://www.dnb.nl/xbrl/dict/exp#ftk_dom036  \n",
       "70  http://www.dnb.nl/xbrl/dict/exp#ftk_dom023  \n",
       "71  http://www.dnb.nl/xbrl/dict/exp#ftk_dom023  \n",
       "72  http://www.dnb.nl/xbrl/dict/exp#ftk_dom015  \n",
       "73  http://www.dnb.nl/xbrl/dict/exp#ftk_dom010  \n",
       "\n",
       "[74 rows x 3 columns]"
      ]
     },
     "execution_count": 9,
     "metadata": {},
     "output_type": "execute_result"
    }
   ],
   "source": [
    "q = \"\"\"\n",
    "  SELECT DISTINCT ?t ?domain\n",
    "  WHERE {\n",
    "    ?x2 arcrole7:dimension-domain [ xl:from ?t ;\n",
    "                                    xl:to ?domain ] .\n",
    "  }\"\"\"\n",
    "data = [[row[0], concept_labels[row[0]]]+list(row[1:]) for row in g.query(q)]\n",
    "columns=['Dimension uri', \n",
    "         'Dimension label', \n",
    "         'Applicable domain code']\n",
    "df_dimensions = pd.DataFrame(data=data, \n",
    "                             columns=columns)\n",
    "df_dimensions"
   ]
  },
  {
   "cell_type": "markdown",
   "metadata": {},
   "source": [
    "## All domain members of all domains"
   ]
  },
  {
   "cell_type": "code",
   "execution_count": 10,
   "metadata": {},
   "outputs": [],
   "source": [
    "# Elements of an explicit domain are called domain members. \n",
    "# A domain member (or simply a member) is enumerated element of an explicit domain.\n",
    "# All members from a domain share a certain common nature defined subjectively\n",
    "# but applied consistently by the model’s author."
   ]
  },
  {
   "cell_type": "code",
   "execution_count": 11,
   "metadata": {},
   "outputs": [],
   "source": [
    "def members(domain):\n",
    "    q = \"\"\"\n",
    "      SELECT DISTINCT ?t ?label\n",
    "      WHERE {\n",
    "        ?l arcrole7:domain-member [ xl:from <\"\"\"+str(domain)+\"\"\"> ;\n",
    "                                    xl:to ?t ] .\n",
    "        ?t rdf:type nonnum:domainItemType .\n",
    "        ?x arcrole1:concept-label [ xl:from ?t ;\n",
    "                                    xl:to [rdf:value ?label ] ] .\n",
    "        }\"\"\"\n",
    "    return g.query(q)\n",
    "\n",
    "df_members = pd.DataFrame()\n",
    "for domain in df_domains.iloc[:, 0]:\n",
    "    data = [[urldefrag(domain)[1]]+[urldefrag(row[0])[1]]+list(row[1:]) for row in members(domain)]\n",
    "    columns = ['Domain',\n",
    "               'Member',\n",
    "               'Member label']\n",
    "    df_members = df_members.append(pd.DataFrame(data=data,\n",
    "                                                columns=columns))"
   ]
  },
  {
   "cell_type": "code",
   "execution_count": 12,
   "metadata": {},
   "outputs": [
    {
     "data": {
      "text/plain": [
       "9384"
      ]
     },
     "execution_count": 12,
     "metadata": {},
     "output_type": "execute_result"
    }
   ],
   "source": [
    "len(df_members)"
   ]
  },
  {
   "cell_type": "markdown",
   "metadata": {},
   "source": [
    "## Template structures"
   ]
  },
  {
   "cell_type": "code",
   "execution_count": 13,
   "metadata": {},
   "outputs": [],
   "source": [
    "def get_children(parent):\n",
    "    q = '''\n",
    "      SELECT DISTINCT ?t\n",
    "      WHERE {\n",
    "        ?s xl:from <'''+str(parent)+'''> .\n",
    "        ?s xl:to ?t .\n",
    "        ?l xl:from ?t .\n",
    "      }'''\n",
    "    return list(g.query(q))\n",
    "\n",
    "def get_label(element, role):\n",
    "    q = '''\n",
    "      SELECT DISTINCT ?label\n",
    "      WHERE {\n",
    "        ?l arcrole3:element-label ?s .\n",
    "        ?s xl:from <'''+str(element)+'''> .\n",
    "        ?s xl:to [xlink:role '''+role+''' ;\n",
    "                  rdf:value ?label] .\n",
    "      }'''\n",
    "    r = list(g.query(q))\n",
    "    if r != []:\n",
    "        return r[0][0]\n",
    "    else:\n",
    "        return \"\"\n",
    "\n",
    "def search_tree(c, depth, axis, data):\n",
    "    if c != []:\n",
    "        for r in get_children(c):\n",
    "            rccode = get_label(r[0], 'eurofiling:rc-code')\n",
    "            label = get_label(r[0], 'role3:label')\n",
    "            data.append([str(axis), depth, str(rccode), str(label)])\n",
    "            search_tree(r[0], depth + 1, axis, data)\n",
    "    return data\n",
    "\n",
    "url = str(tables[1])\n",
    "    \n",
    "qres = g.query(\n",
    "\"\"\"SELECT DISTINCT ?t ?axis\n",
    "   WHERE {\n",
    "   ?s xl:from <\"\"\"+url+\"\"\"> .\n",
    "   ?s xl:axis ?axis .\n",
    "   ?s xl:to ?t .\n",
    "   }\"\"\")\n",
    "\n",
    "data = list()\n",
    "\n",
    "for row in qres:\n",
    "    data = search_tree(row[0], 0, row[1], data)\n",
    "columns = ['axis', 'depth', 'rc-code', 'label']\n",
    "df_tables = pd.DataFrame(data=data,\n",
    "                         columns=columns)\n",
    "df_tables = df_tables.sort_values(['axis', 'rc-code']).reset_index(drop=True)"
   ]
  },
  {
   "cell_type": "code",
   "execution_count": 14,
   "metadata": {},
   "outputs": [
    {
     "data": {
      "text/html": [
       "<div>\n",
       "<style scoped>\n",
       "    .dataframe tbody tr th:only-of-type {\n",
       "        vertical-align: middle;\n",
       "    }\n",
       "\n",
       "    .dataframe tbody tr th {\n",
       "        vertical-align: top;\n",
       "    }\n",
       "\n",
       "    .dataframe thead th {\n",
       "        text-align: right;\n",
       "    }\n",
       "</style>\n",
       "<table border=\"1\" class=\"dataframe\">\n",
       "  <thead>\n",
       "    <tr style=\"text-align: right;\">\n",
       "      <th></th>\n",
       "      <th>axis</th>\n",
       "      <th>depth</th>\n",
       "      <th>rc-code</th>\n",
       "      <th>label</th>\n",
       "    </tr>\n",
       "  </thead>\n",
       "  <tbody>\n",
       "    <tr>\n",
       "      <th>0</th>\n",
       "      <td>x</td>\n",
       "      <td>0</td>\n",
       "      <td></td>\n",
       "      <td></td>\n",
       "    </tr>\n",
       "    <tr>\n",
       "      <th>1</th>\n",
       "      <td>x</td>\n",
       "      <td>1</td>\n",
       "      <td>010</td>\n",
       "      <td>Kolom</td>\n",
       "    </tr>\n",
       "    <tr>\n",
       "      <th>2</th>\n",
       "      <td>y</td>\n",
       "      <td>0</td>\n",
       "      <td></td>\n",
       "      <td></td>\n",
       "    </tr>\n",
       "    <tr>\n",
       "      <th>3</th>\n",
       "      <td>y</td>\n",
       "      <td>1</td>\n",
       "      <td>010</td>\n",
       "      <td>Technische voorzieningen voor risico fonds</td>\n",
       "    </tr>\n",
       "    <tr>\n",
       "      <th>4</th>\n",
       "      <td>y</td>\n",
       "      <td>1</td>\n",
       "      <td>020</td>\n",
       "      <td>Technische voorzieningen voor risico deelnemer</td>\n",
       "    </tr>\n",
       "    <tr>\n",
       "      <th>5</th>\n",
       "      <td>y</td>\n",
       "      <td>1</td>\n",
       "      <td>030</td>\n",
       "      <td>Technische voorzieningen afgedekt door garanti...</td>\n",
       "    </tr>\n",
       "    <tr>\n",
       "      <th>6</th>\n",
       "      <td>y</td>\n",
       "      <td>1</td>\n",
       "      <td>040</td>\n",
       "      <td>Aanwezige solvabiliteit</td>\n",
       "    </tr>\n",
       "    <tr>\n",
       "      <th>7</th>\n",
       "      <td>y</td>\n",
       "      <td>1</td>\n",
       "      <td>050</td>\n",
       "      <td>Dekkingsgraad (%)</td>\n",
       "    </tr>\n",
       "    <tr>\n",
       "      <th>8</th>\n",
       "      <td>y</td>\n",
       "      <td>1</td>\n",
       "      <td>060</td>\n",
       "      <td>Beleidsdekkingsgraad (%)</td>\n",
       "    </tr>\n",
       "    <tr>\n",
       "      <th>9</th>\n",
       "      <td>y</td>\n",
       "      <td>1</td>\n",
       "      <td>070</td>\n",
       "      <td>Algemene toelichting op de dekkingsgraadrappor...</td>\n",
       "    </tr>\n",
       "  </tbody>\n",
       "</table>\n",
       "</div>"
      ],
      "text/plain": [
       "  axis  depth rc-code                                              label\n",
       "0    x      0                                                           \n",
       "1    x      1     010                                              Kolom\n",
       "2    y      0                                                           \n",
       "3    y      1     010         Technische voorzieningen voor risico fonds\n",
       "4    y      1     020     Technische voorzieningen voor risico deelnemer\n",
       "5    y      1     030  Technische voorzieningen afgedekt door garanti...\n",
       "6    y      1     040                            Aanwezige solvabiliteit\n",
       "7    y      1     050                                  Dekkingsgraad (%)\n",
       "8    y      1     060                           Beleidsdekkingsgraad (%)\n",
       "9    y      1     070  Algemene toelichting op de dekkingsgraadrappor..."
      ]
     },
     "execution_count": 14,
     "metadata": {},
     "output_type": "execute_result"
    }
   ],
   "source": [
    "df_tables"
   ]
  },
  {
   "cell_type": "code",
   "execution_count": null,
   "metadata": {},
   "outputs": [],
   "source": []
  }
 ],
 "metadata": {
  "kernelspec": {
   "display_name": "Python 3",
   "language": "python",
   "name": "python3"
  },
  "language_info": {
   "codemirror_mode": {
    "name": "ipython",
    "version": 3
   },
   "file_extension": ".py",
   "mimetype": "text/x-python",
   "name": "python",
   "nbconvert_exporter": "python",
   "pygments_lexer": "ipython3",
   "version": "3.7.4"
  }
 },
 "nbformat": 4,
 "nbformat_minor": 4
}
