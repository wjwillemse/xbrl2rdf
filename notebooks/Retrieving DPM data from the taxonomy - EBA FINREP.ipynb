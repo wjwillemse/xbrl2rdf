{
 "cells": [
  {
   "cell_type": "code",
   "execution_count": 1,
   "metadata": {},
   "outputs": [],
   "source": [
    "from rdflib import Graph as RDFGraph\n",
    "# import matplotlib.pyplot as plt\n",
    "import statistics\n",
    "import collections\n",
    "import pandas as pd\n",
    "from six.moves.urllib.parse import urldefrag\n",
    "from pathlib import Path\n",
    "from os import listdir \n",
    "from os.path import isfile, join, abspath, basename\n",
    "import json\n",
    "import xbrl2rdf\n",
    "import re"
   ]
  },
  {
   "cell_type": "code",
   "execution_count": 2,
   "metadata": {},
   "outputs": [],
   "source": [
    "# Preliminaries\n",
    "\n",
    "# data/taxonomies should contain: EBA_CRD_IV_XBRL_2.8_Dictionary_2.8.1.1.zip\n",
    "#                                 EBA_CRD_IV_XBRL_2.8_Reporting_Frameworks_2.8.1.1.zip\n",
    "# data/instances should contain: DUMMYLEI123456789012_GB_FINREP020202_FINREP9CONIFRS_2018-12-31_20180802120230000.xbrl\n",
    "\n",
    "# These files can be downloaded from \n",
    "# https://www.eba.europa.eu/risk-analysis-and-data/reporting-frameworks/reporting-framework-2.8\n",
    "\n",
    "# if you want to start over then delete \n",
    "# data/rdf/taxonomy/EBA directories\n",
    "# data/rdf/data/instance.ttl\n",
    "# data/rdf/preloads.json"
   ]
  },
  {
   "cell_type": "markdown",
   "metadata": {},
   "source": [
    "# create ttl file of instance"
   ]
  },
  {
   "cell_type": "code",
   "execution_count": 3,
   "metadata": {},
   "outputs": [
    {
     "data": {
      "text/plain": [
       "0"
      ]
     },
     "execution_count": 3,
     "metadata": {},
     "output_type": "execute_result"
    }
   ],
   "source": [
    "DATA_URL = join(\"..\", \"data\", \"instances\", \"DUMMYLEI123456789012_GB_FINREP020202_FINREP9CONIFRS_2018-12-31_20180802120230000.xbrl\")\n",
    "\n",
    "OUTPUT_DIR = join(\"..\", \"data\", \"rdf\")\n",
    "\n",
    "# set up output directories\n",
    "Path(join(OUTPUT_DIR, \"data\")).mkdir(parents=True, exist_ok=True)\n",
    "\n",
    "# Process instance and taxonomy (if done the first time then it may take a while)\n",
    "xbrl2rdf.MainProcessor(DATA_URL, OUTPUT_DIR, 1)\n",
    "\n",
    "# After this step you have\n",
    "# the XBRL dictionary in turtle format: data\\rdf\\taxonomies\\EBA_CRD_IV_XBRL_2.8_Dictionary_2.8.1.1\n",
    "# the XBRL reporting framework in turtle format: data\\rdf\\taxonomies\\EBA_CRD_IV_XBRL_2.8_Reporting_Frameworks_2.8.1.1\n",
    "# the sample XBRL instance: data\\rdf\\data\\DUMMYLEI123456789012_GB_FINREP020202_FINREP9CONIFRS_2018-12-31_20180802120230000.ttl\n",
    "\n",
    "# Note:\n",
    "# only the taxonomy items that are used in the instance are converted"
   ]
  },
  {
   "cell_type": "markdown",
   "metadata": {},
   "source": [
    "# Read ttl"
   ]
  },
  {
   "cell_type": "code",
   "execution_count": 4,
   "metadata": {
    "scrolled": true
   },
   "outputs": [
    {
     "name": "stdout",
     "output_type": "stream",
     "text": [
      "Parse error: ../data/rdf/taxonomies/EBA_CRD_IV_XBRL_2.8_Dictionary_2.8.1.1/error-formatting-f7b727a941ab2a3cb79254bd682d403c.ttl\n",
      "RDFLib Graph loaded successfully with 1187724 triples\n"
     ]
    }
   ],
   "source": [
    "# Here we load in the turtle-files in an in-memory RDFLib Graph (a graph database would be better)\n",
    "\n",
    "# Initialize graph\n",
    "g = RDFGraph()\n",
    "\n",
    "# RDF graph loading\n",
    "\n",
    "# instance data\n",
    "data = \"../data/rdf/data/DUMMYLEI123456789012_GB_FINREP020202_FINREP9CONIFRS_2018-12-31_20180802120230000.ttl\"\n",
    "g.parse(data, format='turtle')\n",
    "\n",
    "# taxonomy data reporting framework\n",
    "taxo = \"../data/rdf/taxonomies/EBA_CRD_IV_XBRL_2.8_Reporting_Frameworks_2.8.1.1/\"\n",
    "taxo_ttls = [join(taxo, f) for f in listdir(taxo) if isfile(join(taxo, f))]\n",
    "for ttl in taxo_ttls:\n",
    "    try:\n",
    "        g.parse(ttl, format='turtle')\n",
    "    except:\n",
    "        print(\"Parse error: \" + ttl)\n",
    "\n",
    "# taxonomy data dictionary\n",
    "taxo = \"../data/rdf/taxonomies/EBA_CRD_IV_XBRL_2.8_Dictionary_2.8.1.1/\"\n",
    "taxo_ttls = [join(taxo, f) for f in listdir(taxo) if isfile(join(taxo, f))]\n",
    "for ttl in taxo_ttls:\n",
    "    try:\n",
    "        g.parse(ttl, format='turtle')\n",
    "    except:\n",
    "        print(\"Parse error: \" + ttl)\n",
    "        \n",
    "print(\"RDFLib Graph loaded successfully with {} triples\".format(len(g)))\n",
    "# there might be some parse errors -> something is wrong in the ttl file (for example not a proper triple)\n",
    "# this should be fixed"
   ]
  },
  {
   "cell_type": "markdown",
   "metadata": {},
   "source": [
    "# Tables"
   ]
  },
  {
   "cell_type": "code",
   "execution_count": 5,
   "metadata": {},
   "outputs": [
    {
     "data": {
      "text/plain": [
       "['http://www.eba.europa.eu/eu/fr/xbrl/crr/fws/finrep/cir-680-2014/2018-03-31/tab/f_03.00/f_03.00-rend.xml#eba_tF_03.00',\n",
       " 'http://www.eba.europa.eu/eu/fr/xbrl/crr/fws/finrep/cir-680-2014/2018-03-31/tab/f_05.01/f_05.01-rend.xml#eba_tF_05.01',\n",
       " 'http://www.eba.europa.eu/eu/fr/xbrl/crr/fws/finrep/cir-680-2014/2018-03-31/tab/f_07.01/f_07.01-rend.xml#eba_tF_07.01',\n",
       " 'http://www.eba.europa.eu/eu/fr/xbrl/crr/fws/finrep/cir-680-2014/2018-03-31/tab/f_08.02/f_08.02-rend.xml#eba_tF_08.02',\n",
       " 'http://www.eba.europa.eu/eu/fr/xbrl/crr/fws/finrep/cir-680-2014/2018-03-31/tab/f_12.01.a/f_12.01.a-rend.xml#eba_tF_12.01.a']"
      ]
     },
     "execution_count": 5,
     "metadata": {},
     "output_type": "execute_result"
    }
   ],
   "source": [
    "q = \"\"\"\n",
    "  SELECT ?a\n",
    "  WHERE {\n",
    "    ?a xl:type table:table .\n",
    "  }\"\"\"\n",
    "tables = [str(row[0]) for row in g.query(q)]\n",
    "tables.sort()\n",
    "tables[0:5]"
   ]
  },
  {
   "cell_type": "markdown",
   "metadata": {},
   "source": [
    "## Concept labels"
   ]
  },
  {
   "cell_type": "code",
   "execution_count": 6,
   "metadata": {},
   "outputs": [],
   "source": [
    "q = \"\"\"\n",
    "  SELECT ?t ?label\n",
    "  WHERE {\n",
    "    ?x1 <http://www.xbrl.org/2003/arcrole#concept-label> [xl:from ?t ;\n",
    "                                xl:to [rdf:value ?label]] .\n",
    "  }\"\"\"\n",
    "concept_labels = {str(row[0]): str(row[1]) for row in g.query(q)}"
   ]
  },
  {
   "cell_type": "code",
   "execution_count": 7,
   "metadata": {},
   "outputs": [],
   "source": [
    "pd.DataFrame(index = concept_labels.keys(), data = concept_labels.values()).to_csv(\"finrep_280-concept-labels.csv\")"
   ]
  },
  {
   "cell_type": "code",
   "execution_count": 8,
   "metadata": {},
   "outputs": [],
   "source": [
    "q = \"\"\"\n",
    "  SELECT ?t ?label\n",
    "  WHERE {\n",
    "    ?x1 <http://xbrl.org/arcrole/2008#element-label> [xl:from ?t ;\n",
    "                                xl:to [rdf:value ?label]] .\n",
    "  }\"\"\"\n",
    "element_labels = {str(row[0]): str(row[1]) for row in g.query(q)}"
   ]
  },
  {
   "cell_type": "code",
   "execution_count": 9,
   "metadata": {},
   "outputs": [],
   "source": [
    "pd.DataFrame(index = element_labels.keys(), data = element_labels.values()).to_csv(\"finrep_280-element-labels.csv\")"
   ]
  },
  {
   "cell_type": "code",
   "execution_count": 10,
   "metadata": {},
   "outputs": [],
   "source": [
    "q = \"\"\"\n",
    "  SELECT ?t1 ?t2\n",
    "  WHERE {\n",
    "    ?x1 <http://www.xbrl.org/2003/arcrole#parent-child> [\n",
    "        xl:from ?t1 ; \n",
    "        xl:to ?t2\n",
    "        ] .\n",
    "  }\"\"\"\n",
    "parent_child = {str(row[0]): str(row[1]) for row in g.query(q)}"
   ]
  },
  {
   "cell_type": "code",
   "execution_count": 11,
   "metadata": {},
   "outputs": [],
   "source": [
    "pd.DataFrame(index = parent_child.keys(), data = parent_child.values()).to_csv(\"finrep_280-parent-child.csv\")"
   ]
  },
  {
   "cell_type": "markdown",
   "metadata": {},
   "source": [
    "## DPM explicit domains"
   ]
  },
  {
   "cell_type": "code",
   "execution_count": 12,
   "metadata": {},
   "outputs": [],
   "source": [
    "# A domain is a set of elements/values sharing a specified semantic nature. \n",
    "# Domain can be of one of two kinds: explicit and typed. \n",
    "# An explicit domain has its elements enumerated in the model while a typed domain values \n",
    "# are assigned in the reports based on a specified format (data type)."
   ]
  },
  {
   "cell_type": "code",
   "execution_count": 13,
   "metadata": {},
   "outputs": [
    {
     "data": {
      "text/html": [
       "<div>\n",
       "<style scoped>\n",
       "    .dataframe tbody tr th:only-of-type {\n",
       "        vertical-align: middle;\n",
       "    }\n",
       "\n",
       "    .dataframe tbody tr th {\n",
       "        vertical-align: top;\n",
       "    }\n",
       "\n",
       "    .dataframe thead th {\n",
       "        text-align: right;\n",
       "    }\n",
       "</style>\n",
       "<table border=\"1\" class=\"dataframe\">\n",
       "  <thead>\n",
       "    <tr style=\"text-align: right;\">\n",
       "      <th></th>\n",
       "      <th>Domain uri</th>\n",
       "      <th>Domain label</th>\n",
       "      <th>period Type</th>\n",
       "      <th>creation Date</th>\n",
       "      <th>nillable</th>\n",
       "      <th>abstract</th>\n",
       "    </tr>\n",
       "  </thead>\n",
       "  <tbody>\n",
       "    <tr>\n",
       "      <th>0</th>\n",
       "      <td>http://www.eba.europa.eu/xbrl/crr/dict/exp#BA</td>\n",
       "      <td>Defines the basic conceptual meaning of a data...</td>\n",
       "      <td>instant</td>\n",
       "      <td>2013-12-01</td>\n",
       "      <td>true</td>\n",
       "      <td>true</td>\n",
       "    </tr>\n",
       "    <tr>\n",
       "      <th>1</th>\n",
       "      <td>http://www.eba.europa.eu/xbrl/crr/dict/exp#MC</td>\n",
       "      <td>Specifies the nature of the item reported (i.e...</td>\n",
       "      <td>instant</td>\n",
       "      <td>2013-12-01</td>\n",
       "      <td>true</td>\n",
       "      <td>true</td>\n",
       "    </tr>\n",
       "    <tr>\n",
       "      <th>2</th>\n",
       "      <td>http://www.eba.europa.eu/xbrl/crr/dict/exp#AP</td>\n",
       "      <td>Approach used for the calculation of capital r...</td>\n",
       "      <td>instant</td>\n",
       "      <td>2013-12-01</td>\n",
       "      <td>true</td>\n",
       "      <td>true</td>\n",
       "    </tr>\n",
       "    <tr>\n",
       "      <th>3</th>\n",
       "      <td>http://www.eba.europa.eu/xbrl/crr/dict/exp#BT</td>\n",
       "      <td>Dimensions having only two values (usually den...</td>\n",
       "      <td>instant</td>\n",
       "      <td>2013-12-01</td>\n",
       "      <td>true</td>\n",
       "      <td>true</td>\n",
       "    </tr>\n",
       "    <tr>\n",
       "      <th>4</th>\n",
       "      <td>http://www.eba.europa.eu/xbrl/crr/dict/exp#CG</td>\n",
       "      <td>Defines the terms and conditions of the collat...</td>\n",
       "      <td>instant</td>\n",
       "      <td>2013-12-01</td>\n",
       "      <td>true</td>\n",
       "      <td>true</td>\n",
       "    </tr>\n",
       "  </tbody>\n",
       "</table>\n",
       "</div>"
      ],
      "text/plain": [
       "                                      Domain uri  \\\n",
       "0  http://www.eba.europa.eu/xbrl/crr/dict/exp#BA   \n",
       "1  http://www.eba.europa.eu/xbrl/crr/dict/exp#MC   \n",
       "2  http://www.eba.europa.eu/xbrl/crr/dict/exp#AP   \n",
       "3  http://www.eba.europa.eu/xbrl/crr/dict/exp#BT   \n",
       "4  http://www.eba.europa.eu/xbrl/crr/dict/exp#CG   \n",
       "\n",
       "                                        Domain label period Type  \\\n",
       "0  Defines the basic conceptual meaning of a data...     instant   \n",
       "1  Specifies the nature of the item reported (i.e...     instant   \n",
       "2  Approach used for the calculation of capital r...     instant   \n",
       "3  Dimensions having only two values (usually den...     instant   \n",
       "4  Defines the terms and conditions of the collat...     instant   \n",
       "\n",
       "  creation Date nillable abstract  \n",
       "0    2013-12-01     true     true  \n",
       "1    2013-12-01     true     true  \n",
       "2    2013-12-01     true     true  \n",
       "3    2013-12-01     true     true  \n",
       "4    2013-12-01     true     true  "
      ]
     },
     "execution_count": 13,
     "metadata": {},
     "output_type": "execute_result"
    }
   ],
   "source": [
    "q = \"\"\"\n",
    "  SELECT DISTINCT ?t ?x1 ?x2 ?x4 ?x5\n",
    "  WHERE {\n",
    "    ?t rdf:type model:explicitDomainType .\n",
    "    ?t xbrli:periodType ?x1 .\n",
    "    ?t model:creationDate ?x2 .\n",
    "    ?t xbrli:nillable ?x4 .\n",
    "    ?t xbrli:abstract ?x5 .\n",
    "  }\"\"\"\n",
    "\n",
    "data = [[row[0], concept_labels[str(row[0])]]+list(row[1:]) for row in g.query(q)]\n",
    "columns = ['Domain uri', \n",
    "           'Domain label', \n",
    "           'period Type', \n",
    "           'creation Date', \n",
    "           'nillable', \n",
    "           'abstract']\n",
    "df_domains = pd.DataFrame(data=data,\n",
    "                          columns=columns)\n",
    "df_domains.iloc[0:5]"
   ]
  },
  {
   "cell_type": "code",
   "execution_count": 14,
   "metadata": {},
   "outputs": [
    {
     "name": "stdout",
     "output_type": "stream",
     "text": [
      "Number of domains: 39\n"
     ]
    }
   ],
   "source": [
    "print(\"Number of domains: \" +str(len(df_domains)))"
   ]
  },
  {
   "cell_type": "markdown",
   "metadata": {},
   "source": [
    "## DPM Dimensions"
   ]
  },
  {
   "cell_type": "code",
   "execution_count": 15,
   "metadata": {},
   "outputs": [],
   "source": [
    "# In order to be used in description of information requirements a domain member \n",
    "# or a typed domain value requires a dimensionthat provides a context of its application. \n",
    "# In other words dimensions contextualise domain members when applied to a data point\n",
    "# i.e. they contribute to the semantics of a member which, without a dimension,\n",
    "# may be insufficient to represent the full meaning of a property."
   ]
  },
  {
   "cell_type": "code",
   "execution_count": 16,
   "metadata": {
    "scrolled": true
   },
   "outputs": [
    {
     "data": {
      "text/html": [
       "<div>\n",
       "<style scoped>\n",
       "    .dataframe tbody tr th:only-of-type {\n",
       "        vertical-align: middle;\n",
       "    }\n",
       "\n",
       "    .dataframe tbody tr th {\n",
       "        vertical-align: top;\n",
       "    }\n",
       "\n",
       "    .dataframe thead th {\n",
       "        text-align: right;\n",
       "    }\n",
       "</style>\n",
       "<table border=\"1\" class=\"dataframe\">\n",
       "  <thead>\n",
       "    <tr style=\"text-align: right;\">\n",
       "      <th></th>\n",
       "      <th>Dimension uri</th>\n",
       "      <th>Dimension label</th>\n",
       "      <th>Applicable domain code</th>\n",
       "    </tr>\n",
       "  </thead>\n",
       "  <tbody>\n",
       "    <tr>\n",
       "      <th>0</th>\n",
       "      <td>http://www.eba.europa.eu/xbrl/crr/dict/dim#BAS</td>\n",
       "      <td>Defines the basic conceptual meaning of a data...</td>\n",
       "      <td>http://www.eba.europa.eu/xbrl/crr/dict/exp#BA</td>\n",
       "    </tr>\n",
       "    <tr>\n",
       "      <th>1</th>\n",
       "      <td>http://www.eba.europa.eu/xbrl/crr/dict/dim#REF</td>\n",
       "      <td>Specifies the date or the period to which the ...</td>\n",
       "      <td>http://www.eba.europa.eu/xbrl/crr/dict/exp#RF</td>\n",
       "    </tr>\n",
       "    <tr>\n",
       "      <th>2</th>\n",
       "      <td>http://www.eba.europa.eu/xbrl/crr/dict/dim#MCY</td>\n",
       "      <td>Specifies the nature of the item reported (i.e...</td>\n",
       "      <td>http://www.eba.europa.eu/xbrl/crr/dict/exp#MC</td>\n",
       "    </tr>\n",
       "    <tr>\n",
       "      <th>3</th>\n",
       "      <td>http://www.eba.europa.eu/xbrl/crr/dict/dim#APL</td>\n",
       "      <td>Accounting portfolios shall mean financial ins...</td>\n",
       "      <td>http://www.eba.europa.eu/xbrl/crr/dict/exp#PL</td>\n",
       "    </tr>\n",
       "    <tr>\n",
       "      <th>4</th>\n",
       "      <td>http://www.eba.europa.eu/xbrl/crr/dict/dim#ALO</td>\n",
       "      <td>Specifies the type of allowance for credit los...</td>\n",
       "      <td>http://www.eba.europa.eu/xbrl/crr/dict/exp#IM</td>\n",
       "    </tr>\n",
       "    <tr>\n",
       "      <th>5</th>\n",
       "      <td>http://www.eba.europa.eu/xbrl/crr/dict/dim#CPS</td>\n",
       "      <td>Defines the sector of the counterparty of fina...</td>\n",
       "      <td>http://www.eba.europa.eu/xbrl/crr/dict/exp#CT</td>\n",
       "    </tr>\n",
       "    <tr>\n",
       "      <th>6</th>\n",
       "      <td>http://www.eba.europa.eu/xbrl/crr/dict/dim#IMS</td>\n",
       "      <td>Status for monitoring credit quality of financ...</td>\n",
       "      <td>http://www.eba.europa.eu/xbrl/crr/dict/exp#IM</td>\n",
       "    </tr>\n",
       "    <tr>\n",
       "      <th>7</th>\n",
       "      <td>http://www.eba.europa.eu/xbrl/crr/dict/dim#PFS</td>\n",
       "      <td>Identifies the performing status of financial ...</td>\n",
       "      <td>http://www.eba.europa.eu/xbrl/crr/dict/exp#IM</td>\n",
       "    </tr>\n",
       "    <tr>\n",
       "      <th>8</th>\n",
       "      <td>http://www.eba.europa.eu/xbrl/crr/dict/dim#REC</td>\n",
       "      <td>For the accumulated other comprehensive income...</td>\n",
       "      <td>http://www.eba.europa.eu/xbrl/crr/dict/exp#BT</td>\n",
       "    </tr>\n",
       "    <tr>\n",
       "      <th>9</th>\n",
       "      <td>http://www.eba.europa.eu/xbrl/crr/dict/dim#MCE</td>\n",
       "      <td>Defines the main category that generates the r...</td>\n",
       "      <td>http://www.eba.europa.eu/xbrl/crr/dict/exp#MC</td>\n",
       "    </tr>\n",
       "    <tr>\n",
       "      <th>10</th>\n",
       "      <td>http://www.eba.europa.eu/xbrl/crr/dict/dim#TYH</td>\n",
       "      <td>Defines the type of hedging</td>\n",
       "      <td>http://www.eba.europa.eu/xbrl/crr/dict/exp#MC</td>\n",
       "    </tr>\n",
       "    <tr>\n",
       "      <th>11</th>\n",
       "      <td>http://www.eba.europa.eu/xbrl/crr/dict/dim#MCH</td>\n",
       "      <td>Defines the main category of the item that is ...</td>\n",
       "      <td>http://www.eba.europa.eu/xbrl/crr/dict/exp#MC</td>\n",
       "    </tr>\n",
       "    <tr>\n",
       "      <th>12</th>\n",
       "      <td>http://www.eba.europa.eu/xbrl/crr/dict/dim#MCF</td>\n",
       "      <td>Defines hedging or hedged instrument of the ma...</td>\n",
       "      <td>http://www.eba.europa.eu/xbrl/crr/dict/exp#MC</td>\n",
       "    </tr>\n",
       "    <tr>\n",
       "      <th>13</th>\n",
       "      <td>http://www.eba.europa.eu/xbrl/crr/dict/dim#MCA</td>\n",
       "      <td>Defines the main category of the instrument us...</td>\n",
       "      <td>http://www.eba.europa.eu/xbrl/crr/dict/exp#MC</td>\n",
       "    </tr>\n",
       "    <tr>\n",
       "      <th>14</th>\n",
       "      <td>http://www.eba.europa.eu/xbrl/crr/dict/dim#CNO</td>\n",
       "      <td>For equity components, it indicates whether th...</td>\n",
       "      <td>http://www.eba.europa.eu/xbrl/crr/dict/exp#BT</td>\n",
       "    </tr>\n",
       "    <tr>\n",
       "      <th>15</th>\n",
       "      <td>http://www.eba.europa.eu/xbrl/crr/dict/dim#MCB</td>\n",
       "      <td>Defines instrument or product type of the main...</td>\n",
       "      <td>http://www.eba.europa.eu/xbrl/crr/dict/exp#MC</td>\n",
       "    </tr>\n",
       "    <tr>\n",
       "      <th>16</th>\n",
       "      <td>http://www.eba.europa.eu/xbrl/crr/dict/dim#PUR</td>\n",
       "      <td>Defines the purpose of a balance or transaction.</td>\n",
       "      <td>http://www.eba.europa.eu/xbrl/crr/dict/exp#PU</td>\n",
       "    </tr>\n",
       "    <tr>\n",
       "      <th>17</th>\n",
       "      <td>http://www.eba.europa.eu/xbrl/crr/dict/dim#MCG</td>\n",
       "      <td>Defines the main category of collateral or gua...</td>\n",
       "      <td>http://www.eba.europa.eu/xbrl/crr/dict/exp#MC</td>\n",
       "    </tr>\n",
       "    <tr>\n",
       "      <th>18</th>\n",
       "      <td>http://www.eba.europa.eu/xbrl/crr/dict/dim#SUB</td>\n",
       "      <td>Indicates that the financial instrument is a s...</td>\n",
       "      <td>http://www.eba.europa.eu/xbrl/crr/dict/exp#MC</td>\n",
       "    </tr>\n",
       "    <tr>\n",
       "      <th>19</th>\n",
       "      <td>http://www.eba.europa.eu/xbrl/crr/dict/dim#LAC</td>\n",
       "      <td>Identifies the nature of the geographical area...</td>\n",
       "      <td>http://www.eba.europa.eu/xbrl/crr/dict/exp#BT</td>\n",
       "    </tr>\n",
       "  </tbody>\n",
       "</table>\n",
       "</div>"
      ],
      "text/plain": [
       "                                     Dimension uri  \\\n",
       "0   http://www.eba.europa.eu/xbrl/crr/dict/dim#BAS   \n",
       "1   http://www.eba.europa.eu/xbrl/crr/dict/dim#REF   \n",
       "2   http://www.eba.europa.eu/xbrl/crr/dict/dim#MCY   \n",
       "3   http://www.eba.europa.eu/xbrl/crr/dict/dim#APL   \n",
       "4   http://www.eba.europa.eu/xbrl/crr/dict/dim#ALO   \n",
       "5   http://www.eba.europa.eu/xbrl/crr/dict/dim#CPS   \n",
       "6   http://www.eba.europa.eu/xbrl/crr/dict/dim#IMS   \n",
       "7   http://www.eba.europa.eu/xbrl/crr/dict/dim#PFS   \n",
       "8   http://www.eba.europa.eu/xbrl/crr/dict/dim#REC   \n",
       "9   http://www.eba.europa.eu/xbrl/crr/dict/dim#MCE   \n",
       "10  http://www.eba.europa.eu/xbrl/crr/dict/dim#TYH   \n",
       "11  http://www.eba.europa.eu/xbrl/crr/dict/dim#MCH   \n",
       "12  http://www.eba.europa.eu/xbrl/crr/dict/dim#MCF   \n",
       "13  http://www.eba.europa.eu/xbrl/crr/dict/dim#MCA   \n",
       "14  http://www.eba.europa.eu/xbrl/crr/dict/dim#CNO   \n",
       "15  http://www.eba.europa.eu/xbrl/crr/dict/dim#MCB   \n",
       "16  http://www.eba.europa.eu/xbrl/crr/dict/dim#PUR   \n",
       "17  http://www.eba.europa.eu/xbrl/crr/dict/dim#MCG   \n",
       "18  http://www.eba.europa.eu/xbrl/crr/dict/dim#SUB   \n",
       "19  http://www.eba.europa.eu/xbrl/crr/dict/dim#LAC   \n",
       "\n",
       "                                      Dimension label  \\\n",
       "0   Defines the basic conceptual meaning of a data...   \n",
       "1   Specifies the date or the period to which the ...   \n",
       "2   Specifies the nature of the item reported (i.e...   \n",
       "3   Accounting portfolios shall mean financial ins...   \n",
       "4   Specifies the type of allowance for credit los...   \n",
       "5   Defines the sector of the counterparty of fina...   \n",
       "6   Status for monitoring credit quality of financ...   \n",
       "7   Identifies the performing status of financial ...   \n",
       "8   For the accumulated other comprehensive income...   \n",
       "9   Defines the main category that generates the r...   \n",
       "10                        Defines the type of hedging   \n",
       "11  Defines the main category of the item that is ...   \n",
       "12  Defines hedging or hedged instrument of the ma...   \n",
       "13  Defines the main category of the instrument us...   \n",
       "14  For equity components, it indicates whether th...   \n",
       "15  Defines instrument or product type of the main...   \n",
       "16   Defines the purpose of a balance or transaction.   \n",
       "17  Defines the main category of collateral or gua...   \n",
       "18  Indicates that the financial instrument is a s...   \n",
       "19  Identifies the nature of the geographical area...   \n",
       "\n",
       "                           Applicable domain code  \n",
       "0   http://www.eba.europa.eu/xbrl/crr/dict/exp#BA  \n",
       "1   http://www.eba.europa.eu/xbrl/crr/dict/exp#RF  \n",
       "2   http://www.eba.europa.eu/xbrl/crr/dict/exp#MC  \n",
       "3   http://www.eba.europa.eu/xbrl/crr/dict/exp#PL  \n",
       "4   http://www.eba.europa.eu/xbrl/crr/dict/exp#IM  \n",
       "5   http://www.eba.europa.eu/xbrl/crr/dict/exp#CT  \n",
       "6   http://www.eba.europa.eu/xbrl/crr/dict/exp#IM  \n",
       "7   http://www.eba.europa.eu/xbrl/crr/dict/exp#IM  \n",
       "8   http://www.eba.europa.eu/xbrl/crr/dict/exp#BT  \n",
       "9   http://www.eba.europa.eu/xbrl/crr/dict/exp#MC  \n",
       "10  http://www.eba.europa.eu/xbrl/crr/dict/exp#MC  \n",
       "11  http://www.eba.europa.eu/xbrl/crr/dict/exp#MC  \n",
       "12  http://www.eba.europa.eu/xbrl/crr/dict/exp#MC  \n",
       "13  http://www.eba.europa.eu/xbrl/crr/dict/exp#MC  \n",
       "14  http://www.eba.europa.eu/xbrl/crr/dict/exp#BT  \n",
       "15  http://www.eba.europa.eu/xbrl/crr/dict/exp#MC  \n",
       "16  http://www.eba.europa.eu/xbrl/crr/dict/exp#PU  \n",
       "17  http://www.eba.europa.eu/xbrl/crr/dict/exp#MC  \n",
       "18  http://www.eba.europa.eu/xbrl/crr/dict/exp#MC  \n",
       "19  http://www.eba.europa.eu/xbrl/crr/dict/exp#BT  "
      ]
     },
     "execution_count": 16,
     "metadata": {},
     "output_type": "execute_result"
    }
   ],
   "source": [
    "q = \"\"\"\n",
    "  SELECT DISTINCT ?t ?domain\n",
    "  WHERE {\n",
    "    ?x2 <http://xbrl.org/int/dim/arcrole#dimension-domain> \n",
    "        [ xl:from ?t ;\n",
    "          xl:to ?domain ] .\n",
    "  }\"\"\"\n",
    "data = [[row[0], concept_labels[str(row[0])]]+list(row[1:]) for row in g.query(q)]\n",
    "columns=['Dimension uri', \n",
    "         'Dimension label', \n",
    "         'Applicable domain code']\n",
    "df_dimensions = pd.DataFrame(data=data, \n",
    "                             columns=columns)\n",
    "df_dimensions"
   ]
  },
  {
   "cell_type": "markdown",
   "metadata": {},
   "source": [
    "## All domain members of all domains"
   ]
  },
  {
   "cell_type": "code",
   "execution_count": 17,
   "metadata": {},
   "outputs": [],
   "source": [
    "# Elements of an explicit domain are called domain members. \n",
    "# A domain member (or simply a member) is enumerated element of an explicit domain.\n",
    "# All members from a domain share a certain common nature defined subjectively\n",
    "# but applied consistently by the model’s author."
   ]
  },
  {
   "cell_type": "code",
   "execution_count": 18,
   "metadata": {},
   "outputs": [],
   "source": [
    "# This may take a while\n",
    "def members(domain):\n",
    "    q = \"\"\"\n",
    "      SELECT DISTINCT ?t ?label\n",
    "      WHERE {\n",
    "        ?l <http://xbrl.org/int/dim/arcrole#domain-member>\n",
    "            [ xl:from <\"\"\"+str(domain)+\"\"\"> ;\n",
    "              xl:to ?t ] .\n",
    "        ?t rdf:type nonnum:domainItemType .\n",
    "        ?x <http://www.xbrl.org/2003/arcrole#concept-label>\n",
    "            [ xl:from ?t ;\n",
    "              xl:to [rdf:value ?label ] ] .\n",
    "        }\"\"\"\n",
    "    return g.query(q)\n",
    "\n",
    "df_members = pd.DataFrame()\n",
    "for domain in df_domains.iloc[:, 0]:\n",
    "    data = [[urldefrag(domain)[1]]+[urldefrag(row[0])[1]]+list(row[1:]) for row in members(domain)]\n",
    "    columns = ['Domain',\n",
    "               'Member',\n",
    "               'Member label']\n",
    "    df_members = df_members.append(pd.DataFrame(data=data,\n",
    "                                                columns=columns))"
   ]
  },
  {
   "cell_type": "code",
   "execution_count": 19,
   "metadata": {},
   "outputs": [
    {
     "name": "stdout",
     "output_type": "stream",
     "text": [
      "Number of members: 6224\n"
     ]
    }
   ],
   "source": [
    "print(\"Number of members: \"+str(len(df_members)))"
   ]
  },
  {
   "cell_type": "markdown",
   "metadata": {},
   "source": [
    "## Template structures"
   ]
  },
  {
   "cell_type": "code",
   "execution_count": 20,
   "metadata": {},
   "outputs": [
    {
     "ename": "NameError",
     "evalue": "name 'rdflib' is not defined",
     "output_type": "error",
     "traceback": [
      "\u001b[1;31m---------------------------------------------------------------------------\u001b[0m",
      "\u001b[1;31mNameError\u001b[0m                                 Traceback (most recent call last)",
      "\u001b[1;32m<ipython-input-20-971ce47b7706>\u001b[0m in \u001b[0;36m<module>\u001b[1;34m\u001b[0m\n\u001b[0;32m      3\u001b[0m               \u001b[1;34m\"formula\"\u001b[0m\u001b[1;33m:\u001b[0m \u001b[1;34m\"http://xbrl.org/2008/formula#\"\u001b[0m\u001b[1;33m,\u001b[0m\u001b[1;33m\u001b[0m\u001b[1;33m\u001b[0m\u001b[0m\n\u001b[0;32m      4\u001b[0m               \"rdf\": 'http://www.w3.org/1999/02/22-rdf-syntax-ns#'}\n\u001b[1;32m----> 5\u001b[1;33m \u001b[0mrole_rc\u001b[0m \u001b[1;33m=\u001b[0m \u001b[0mrdflib\u001b[0m\u001b[1;33m.\u001b[0m\u001b[0mURIRef\u001b[0m\u001b[1;33m(\u001b[0m\u001b[1;34m\"http://www.eurofiling.info/xbrl/role#rc-code\"\u001b[0m\u001b[1;33m)\u001b[0m\u001b[1;33m\u001b[0m\u001b[1;33m\u001b[0m\u001b[0m\n\u001b[0m\u001b[0;32m      6\u001b[0m \u001b[0mrole_label\u001b[0m \u001b[1;33m=\u001b[0m \u001b[0mrdflib\u001b[0m\u001b[1;33m.\u001b[0m\u001b[0mURIRef\u001b[0m\u001b[1;33m(\u001b[0m\u001b[1;34m\"http://www.xbrl.org/2008/role#label\"\u001b[0m\u001b[1;33m)\u001b[0m\u001b[1;33m\u001b[0m\u001b[1;33m\u001b[0m\u001b[0m\n",
      "\u001b[1;31mNameError\u001b[0m: name 'rdflib' is not defined"
     ]
    }
   ],
   "source": [
    "namespaces = {\"xl\": 'http://www.xbrl.org/2003/XLink#',\n",
    "              \"xlink\": \"http://www.w3.org/1999/xlink#\",\n",
    "              \"formula\": \"http://xbrl.org/2008/formula#\",\n",
    "              \"rdf\": 'http://www.w3.org/1999/02/22-rdf-syntax-ns#'}\n",
    "role_rc = rdflib.URIRef(\"http://www.eurofiling.info/xbrl/role#rc-code\")\n",
    "role_label = rdflib.URIRef(\"http://www.xbrl.org/2008/role#label\")"
   ]
  },
  {
   "cell_type": "code",
   "execution_count": null,
   "metadata": {},
   "outputs": [],
   "source": [
    "q_label = rdflib.plugins.sparql.prepareQuery('''\n",
    "      SELECT DISTINCT ?label\n",
    "      WHERE {\n",
    "        ?l <http://xbrl.org/arcrole/2008#element-label> ?s .\n",
    "        ?s xl:from ?element .\n",
    "        ?s xl:to [xlink:role ?role ; rdf:value ?label] .\n",
    "      }''', \n",
    "      initNs = namespaces)\n",
    "q_children = rdflib.plugins.sparql.prepareQuery('''\n",
    "      SELECT DISTINCT ?t\n",
    "      WHERE {\n",
    "        ?s xl:from ?parent .\n",
    "        ?s xl:to ?t .\n",
    "      }''',\n",
    "      initNs = namespaces)\n",
    "q_concept = rdflib.plugins.sparql.prepareQuery('''\n",
    "      SELECT DISTINCT ?c\n",
    "      WHERE {\n",
    "        OPTIONAL { ?item formula:concept ?c } .\n",
    "      }''',\n",
    "      initNs = namespaces)\n",
    "q_dim = rdflib.plugins.sparql.prepareQuery('''\n",
    "      SELECT DISTINCT ?d_name ?m_name\n",
    "      WHERE {\n",
    "        OPTIONAL { ?item formula:explicitDimension [\n",
    "                         formula:dimension ?d_name ; \n",
    "                         formula:member ?m_name ] }\n",
    "      }''',\n",
    "      initNs = namespaces)\n",
    "q_axis_points = rdflib.plugins.sparql.prepareQuery('''\n",
    "      SELECT DISTINCT ?t ?axis\n",
    "      WHERE {\n",
    "        ?s xl:from ?table_url .\n",
    "        ?s xl:axis ?axis .\n",
    "        ?s xl:to ?t .\n",
    "      }''', \n",
    "      initNs = namespaces)\n",
    "\n",
    "def search_tree(c, depth, axis, data):\n",
    "    \n",
    "    if c != []:\n",
    "        \n",
    "        for r in g.query(q_children, initBindings={'parent': c}):\n",
    "            \n",
    "            element = r[0]\n",
    "\n",
    "            element = '/'.join(element.split(\"/\")[:-1]) + \"#\"+element.split(\"/\")[-1].split(\"#\")[-1]\n",
    "            element = element.replace(\"eu/fr/\", \"\")\n",
    "            element = element.replace(\"f_\", \"F_\")\n",
    "            element = rdflib.URIRef(element)\n",
    "            \n",
    "            rccode = list(g.query(q_label, initBindings={'element': element, 'role': role_rc}))\n",
    "            if rccode != []:\n",
    "                rccode = str(rccode[0][0])\n",
    "            else:\n",
    "                rccode = None\n",
    "            label = list(g.query(q_label, initBindings={'element': element, 'role': role_label}))\n",
    "            if label != []:\n",
    "                label = str(label[0][0])\n",
    "            else:\n",
    "                label = None\n",
    "\n",
    "            concept_data = list(g.query(q_concept, initBindings={'item': r[0]}))\n",
    "            if concept_data == []:\n",
    "                concept_data = [None]\n",
    "\n",
    "            dim_data = list(g.query(q_dim, initBindings={'item': r[0]}))\n",
    "            if dim_data == []:\n",
    "                dim_data = [\"\", \"\"]\n",
    "            else:\n",
    "                dim_data = [[str(d[0]) for d in dim_data], [str(d[1]) for d in dim_data]]\n",
    "                \n",
    "            data.append([str(axis), depth, str(rccode), str(label), concept_data[0]]+dim_data)\n",
    "            search_tree(r[0], depth+1, axis, data)\n",
    "    return data"
   ]
  },
  {
   "cell_type": "code",
   "execution_count": null,
   "metadata": {
    "scrolled": true
   },
   "outputs": [],
   "source": [
    "columns = ['table', 'axis', 'depth', 'rc-code', 'label', 'concept', 'dimension', 'member']\n",
    "df_tables = pd.DataFrame(columns=columns)\n",
    "\n",
    "for table in tables:\n",
    "    table_url = rdflib.URIRef(table)\n",
    "\n",
    "    axis_points = list()\n",
    "    for axis in ['x', 'y', 'z']:\n",
    "        axis_url = rdflib.term.Literal(axis, datatype=rdflib.term.URIRef('http://www.w3.org/1999/02/22-rdf-syntax-ns#XMLLiteral'))\n",
    "        axis_points.append(g.query(q_axis_points, initBindings={'table_url': table_url, 'axis': axis_url}))\n",
    "\n",
    "    data_x = list()\n",
    "    for row in axis_points[0]:\n",
    "        data_x = search_tree(row[0], 0, row[1], data_x)\n",
    "    data_x = [[table]+line for line in data_x]\n",
    "    \n",
    "    data_y = list()\n",
    "    for row in axis_points[1]:\n",
    "        data_y = search_tree(row[0], 0, row[1], data_y)\n",
    "    data_y = [[table]+line for line in data_y]\n",
    "\n",
    "    data_z = list()\n",
    "    for row in axis_points[2]:\n",
    "        data_z = search_tree(row[0], 0, row[1], data_z)\n",
    "    data_z = [[table]+line for line in data_z]\n",
    "\n",
    "    df_table = pd.DataFrame(data=data_x+data_y, columns=columns)\n",
    "    df_table = df_table.sort_values(['axis', 'rc-code']).reset_index(drop=True)\n",
    "    df_tables = df_tables.append(df_table, ignore_index=True)"
   ]
  },
  {
   "cell_type": "code",
   "execution_count": null,
   "metadata": {},
   "outputs": [],
   "source": [
    "df_tables.to_csv(\"finrep_280_tables.csv\")"
   ]
  },
  {
   "cell_type": "code",
   "execution_count": null,
   "metadata": {},
   "outputs": [],
   "source": []
  },
  {
   "cell_type": "code",
   "execution_count": null,
   "metadata": {},
   "outputs": [],
   "source": []
  }
 ],
 "metadata": {
  "kernelspec": {
   "display_name": "Python 3 (ipykernel)",
   "language": "python",
   "name": "python3"
  },
  "language_info": {
   "codemirror_mode": {
    "name": "ipython",
    "version": 3
   },
   "file_extension": ".py",
   "mimetype": "text/x-python",
   "name": "python",
   "nbconvert_exporter": "python",
   "pygments_lexer": "ipython3",
   "version": "3.7.0"
  }
 },
 "nbformat": 4,
 "nbformat_minor": 4
}
